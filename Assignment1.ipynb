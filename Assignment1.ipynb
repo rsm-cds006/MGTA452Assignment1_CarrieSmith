{
 "cells": [
  {
   "cell_type": "code",
   "execution_count": 2,
   "metadata": {},
   "outputs": [],
   "source": [
    "import pandas as pd\n",
    "import requests\n",
    "from io import StringIO\n",
    "\n",
    "def load_csv_from_url(url):\n",
    "    response = requests.get(url)\n",
    "    if response.status_code != 200:\n",
    "        print(\"Failed to download data\")\n",
    "        return None\n",
    "\n",
    "    csv_content = StringIO(response.text)\n",
    "    df = pd.read_csv(csv_content)\n",
    "    return df\n",
    "    \n",
    "# URLs of the CSV files\n",
    "url1 = \"https://www.sandiego.gov/sites/default/files/tr_active1.csv\"\n",
    "url2 = \"https://www.sandiego.gov/sites/default/files/tr_active2.csv\"\n",
    "\n",
    "# Load the data\n",
    "df1 = load_csv_from_url(url1)\n",
    "df2 = load_csv_from_url(url2)"
   ]
  },
  {
   "cell_type": "code",
   "execution_count": 4,
   "metadata": {},
   "outputs": [
    {
     "name": "stdout",
     "output_type": "stream",
     "text": [
      "The total number of Beauty Salons in both columns is: 776\n"
     ]
    }
   ],
   "source": [
    "#Question 1\n",
    "import pandas as pd\n",
    "\n",
    "def count_beauty_salons_in_csv(file_path, column_name):\n",
    "    df = pd.read_csv(file_path)\n",
    "    return df[df[column_name] == 'BEAUTY SALONS'].shape[0]\n",
    "\n",
    "# CSV file paths\n",
    "csv_file1 = \"https://www.sandiego.gov/sites/default/files/tr_active1.csv\"\n",
    "csv_file2 = \"https://www.sandiego.gov/sites/default/files/tr_active2.csv\"\n",
    "\n",
    "# Column name to check in both files\n",
    "column_name = \"ACTIVITY DESC\"\n",
    "\n",
    "# Count the number of 'Beauty Salons' in each CSV\n",
    "count1 = count_beauty_salons_in_csv(csv_file1, column_name)\n",
    "count2 = count_beauty_salons_in_csv(csv_file2, column_name)\n",
    "\n",
    "# Sum the counts from both CSVs\n",
    "total_count = count1 + count2\n",
    "\n",
    "print(f\"The total number of Beauty Salons in both columns is: {total_count}\")"
   ]
  },
  {
   "cell_type": "code",
   "execution_count": 3,
   "metadata": {},
   "outputs": [
    {
     "name": "stdout",
     "output_type": "stream",
     "text": [
      "The total number of Fitness & Recreation Sports Centers in both columns is: 110\n"
     ]
    }
   ],
   "source": [
    "#Question 2\n",
    "import pandas as pd\n",
    "\n",
    "def count_fit_rec_sports_centers_in_csv(file_path, column_name):\n",
    "    df = pd.read_csv(file_path)\n",
    "    return df[df[column_name] == 'FITNESS & RECREATIONAL SPORTS CENTERS'].shape[0]\n",
    "\n",
    "# CSV file paths\n",
    "csv_file1 = \"https://www.sandiego.gov/sites/default/files/tr_active1.csv\"\n",
    "csv_file2 = \"https://www.sandiego.gov/sites/default/files/tr_active2.csv\"\n",
    "\n",
    "# Column name to check in both files\n",
    "column_name = \"ACTIVITY DESC\"\n",
    "\n",
    "# Count the number of 'Fitness & Recreation Sports Centers' in each CSV\n",
    "count1 = count_fit_rec_sports_centers_in_csv(csv_file1, column_name)\n",
    "count2 = count_fit_rec_sports_centers_in_csv(csv_file2, column_name)\n",
    "\n",
    "# Sum the counts from both CSVs\n",
    "total_count = count1 + count2\n",
    "\n",
    "print(f\"The total number of Fitness & Recreation Sports Centers in both columns is: {total_count}\")"
   ]
  },
  {
   "cell_type": "code",
   "execution_count": 5,
   "metadata": {},
   "outputs": [
    {
     "name": "stdout",
     "output_type": "stream",
     "text": [
      "Master file created.\n",
      "The number of Bear, Wine & Liquor Stores in the master file column is: 118\n",
      "The number of Used Car Dealers in the master file column is: 224\n"
     ]
    }
   ],
   "source": [
    "#Question 4\n",
    "import pandas as pd\n",
    "\n",
    "# Load the CSV files into DataFrames\n",
    "df1 = pd.read_csv(\"https://www.sandiego.gov/sites/default/files/tr_active1.csv\")  \n",
    "df2 = pd.read_csv(\"https://www.sandiego.gov/sites/default/files/tr_active2.csv\")  \n",
    "\n",
    "# Vertically stack the DataFrames\n",
    "master_df = pd.concat([df1, df2], ignore_index=True)\n",
    "\n",
    "# Save the stacked DataFrame to a new CSV file\n",
    "master_df.to_csv(\"master_file.csv\", index=False)\n",
    "\n",
    "print(\"Master file created.\")\n",
    "\n",
    "# Load the master CSV file into a DataFrame\n",
    "master_df = pd.read_csv(\"master_file.csv\")\n",
    "\n",
    "# Count the number of 'Bear, Wine & Liquor Stores' in the master DataFrame\n",
    "count_Bear_Wine_Liquor_Stores = master_df[master_df['ACTIVITY DESC'] == 'BEER, WINE & LIQUOR STORES'].shape[0]\n",
    "\n",
    "print(f\"The number of Bear, Wine & Liquor Stores in the master file column is: {count_Bear_Wine_Liquor_Stores}\")\n",
    "\n",
    "# Count the number of 'Used Car Dealers' in the master DataFrame\n",
    "count_Used_Car_Dealers = master_df[master_df['ACTIVITY DESC'] == 'USED CAR DEALERS'].shape[0]\n",
    "\n",
    "print(f\"The number of Used Car Dealers in the master file column is: {count_Used_Car_Dealers}\")"
   ]
  },
  {
   "cell_type": "code",
   "execution_count": 9,
   "metadata": {},
   "outputs": [
    {
     "name": "stdout",
     "output_type": "stream",
     "text": [
      "The total number of Honda models is: 443\n",
      "The total number of Toyota models is: 56\n",
      "The total number of Mazda models is: 27\n",
      "The total number of Nissan models is: 42\n",
      "The total number of Lexus models is: 18\n",
      "The total number of Kia models is: 27\n",
      "The total number of Honda, Toyota , Mazda , Nissan, Lexus & Kia models is: 613\n"
     ]
    }
   ],
   "source": [
    "#Question 5\n",
    "#Using the information above figure out how many car models the following manufacturers have in the database combined: ['honda','toyota','mazda','nissan','lexus','kia']. \n",
    "#So do this you need to make API call for each manufacturer in the list, \n",
    "#then combine the results into one joint dataframe and then just count the number of rows\n",
    "#(or you can count the size of the dataframe for each manufacturer and then just add them). \n",
    "\n",
    "import pandas as pd\n",
    "import requests\n",
    "import json\n",
    "\n",
    "# Make a API call to get the data from the API endpoint for honda and print the total number of models\n",
    "makeHondaUrl = \"https://vpic.nhtsa.dot.gov/api/vehicles/getmodelsformake/honda?format=json\"\n",
    "\n",
    "response = requests.get(makeHondaUrl)\n",
    "\n",
    "if response.status_code == 200:\n",
    "    data = response.json()\n",
    "    count_Honda = len(data['Results'])  # Count the number of items in the 'Results' list\n",
    "    print(f\"The total number of Honda models is: {count_Honda}\")\n",
    "else:\n",
    "    print(\"Failed to fetch data.\")\n",
    "\n",
    "# Make a API call to get the data from the API endpoint for toyota and print the total number of models\n",
    "makeToyotaUrl = \"https://vpic.nhtsa.dot.gov/api/vehicles/getmodelsformake/toyota?format=json\"\n",
    "\n",
    "response = requests.get(makeToyotaUrl)\n",
    "\n",
    "if response.status_code == 200:\n",
    "    data = response.json()\n",
    "    count_Toyota = len(data['Results'])  # Count the number of items in the 'Results' list\n",
    "    print(f\"The total number of Toyota models is: {count_Toyota}\")\n",
    "else:\n",
    "    print(\"Failed to fetch data.\")\n",
    "\n",
    "# Make a API call to get the data from the API endpoint for mazda and and print the total number of models\n",
    "makeMazdaUrl = \"https://vpic.nhtsa.dot.gov/api/vehicles/getmodelsformake/mazda?format=json\"\n",
    "\n",
    "response = requests.get(makeMazdaUrl)\n",
    "\n",
    "if response.status_code == 200:\n",
    "    data = response.json()\n",
    "    count_Mazda = len(data['Results'])  # Count the number of items in the 'Results' list\n",
    "    print(f\"The total number of Mazda models is: {count_Mazda}\")\n",
    "else:\n",
    "    print(\"Failed to fetch data.\")\n",
    "\n",
    "# Make a API call to get the data from the API endpoint for nissan and and print the total number of models\n",
    "makeNissanUrl = \"https://vpic.nhtsa.dot.gov/api/vehicles/getmodelsformake/nissan?format=json\"\n",
    "\n",
    "response = requests.get(makeNissanUrl)\n",
    "\n",
    "if response.status_code == 200:\n",
    "    data = response.json()\n",
    "    count_Nissan = len(data['Results'])  # Count the number of items in the 'Results' list\n",
    "    print(f\"The total number of Nissan models is: {count_Nissan}\")\n",
    "else:\n",
    "    print(\"Failed to fetch data.\")\n",
    "\n",
    "# Make a API call to get the data from the API endpoint for lexus and and print the total number of models\n",
    "makeLexusUrl = \"https://vpic.nhtsa.dot.gov/api/vehicles/getmodelsformake/lexus?format=json\"\n",
    "\n",
    "response = requests.get(makeLexusUrl)\n",
    "\n",
    "if response.status_code == 200:\n",
    "    data = response.json()\n",
    "    count_Lexus = len(data['Results'])  # Count the number of items in the 'Results' list\n",
    "    print(f\"The total number of Lexus models is: {count_Lexus}\")\n",
    "else:\n",
    "    print(\"Failed to fetch data.\")\n",
    "\n",
    "# Make a API call to get the data from the API endpoint for kia and and print the total number of models\n",
    "makeKiaUrl = \"https://vpic.nhtsa.dot.gov/api/vehicles/getmodelsformake/kia?format=json\"\n",
    "\n",
    "response = requests.get(makeKiaUrl)\n",
    "\n",
    "if response.status_code == 200:\n",
    "    data = response.json()\n",
    "    count_Kia = len(data['Results'])  # Count the number of items in the 'Results' list\n",
    "    print(f\"The total number of Kia models is: {count_Kia}\")\n",
    "else:\n",
    "    print(\"Failed to fetch data.\")\n",
    "\n",
    "# Sum the counts \n",
    "total_count = count_Honda + count_Toyota + count_Mazda + count_Nissan + count_Lexus + count_Kia\n",
    "\n",
    "print(f\"The total number of Honda, Toyota , Mazda , Nissan, Lexus & Kia models is: {total_count}\")"
   ]
  }
 ],
 "metadata": {
  "kernelspec": {
   "display_name": "base",
   "language": "python",
   "name": "python3"
  },
  "language_info": {
   "codemirror_mode": {
    "name": "ipython",
    "version": 3
   },
   "file_extension": ".py",
   "mimetype": "text/x-python",
   "name": "python",
   "nbconvert_exporter": "python",
   "pygments_lexer": "ipython3",
   "version": "3.11.5"
  }
 },
 "nbformat": 4,
 "nbformat_minor": 2
}
